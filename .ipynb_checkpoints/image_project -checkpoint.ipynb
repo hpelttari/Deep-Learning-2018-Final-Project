{
 "cells": [
  {
   "cell_type": "markdown",
   "metadata": {},
   "source": [
    "# DATA20001 Deep Learning - Group Project\n",
    "## Image project\n",
    "\n",
    "**Due Thursday, December 13, before 23:59.**\n",
    "\n",
    "The task is to learn to assign the correct labels to a set of images.  The images are originally from a photo-sharing site and released under Creative Commons-licenses allowing sharing.  The training set contains 20 000 images. We have resized them and cropped them to 128x128 to make the task a bit more manageable.\n",
    "\n",
    "We're only giving you the code for downloading the data. The rest you'll have to do yourselves.\n",
    "\n",
    "Some comments and hints particular to the image project:\n",
    "\n",
    "- One image may belong to many classes in this problem, i.e., it's a multi-label classification problem. In fact there are images that don't belong to any of our classes, and you should also be able to handle these correctly. Pay careful attention to how you design the outputs of the network (e.g., what activation to use) and what loss function should be used.\n",
    "\n",
    "- As the dataset is pretty imbalanced, don't focus too strictly on the outputs being probabilistic. (Meaning that the right threshold for selecting the label might not be 0.5.)\n",
    "\n",
    "- Image files can be loaded as numpy matrices for example using `imread` from `matplotlib.pyplot`. Most images are color, but a few grayscale. You need to handle the grayscale ones somehow as they would have a different number of color channels (depth) than the color ones.\n",
    "\n",
    "- In the exercises we used e.g., `torchvision.datasets.MNIST` to handle the loading of the data in suitable batches. Here, you need to handle the dataloading yourself.  The easiest way is probably to create a custom `Dataset`. [See for example here for a tutorial](https://github.com/utkuozbulak/pytorch-custom-dataset-examples)."
   ]
  },
  {
   "cell_type": "markdown",
   "metadata": {},
   "source": [
    "## Download the data"
   ]
  },
  {
   "cell_type": "code",
   "execution_count": 1,
   "metadata": {
    "collapsed": false
   },
   "outputs": [
    {
     "name": "stdout",
     "output_type": "stream",
     "text": [
      "Downloading https://users.aalto.fi/mvsjober/misc/dl2018-image-proj.zip to train\\dl2018-image-proj.zip\n",
      "Files downloaded!\n"
     ]
    }
   ],
   "source": [
    "import os\n",
    "import torch\n",
    "import torchvision\n",
    "from torchvision.datasets.utils import download_url\n",
    "import zipfile\n",
    "\n",
    "train_path = 'train'\n",
    "dl_file = 'dl2018-image-proj.zip'\n",
    "dl_url = 'https://users.aalto.fi/mvsjober/misc/'\n",
    "\n",
    "zip_path = os.path.join(train_path, dl_file)\n",
    "if not os.path.isfile(zip_path):\n",
    "    download_url(dl_url + dl_file, root=train_path, filename=dl_file, md5=None)\n",
    "\n",
    "with zipfile.ZipFile(zip_path) as zip_f:\n",
    "    zip_f.extractall(train_path)\n",
    "    #os.unlink(zip_path)\n",
    "\n",
    "print(\"Files downloaded!\")"
   ]
  },
  {
   "cell_type": "markdown",
   "metadata": {},
   "source": [
    "The above command downloaded and extracted the data files into the `train` subdirectory.\n",
    "\n",
    "The images can be found in `train/images`, and are named as `im1.jpg`, `im2.jpg` and so on until `im20000.jpg`.\n",
    "\n",
    "The class labels, or annotations, can be found in `train/annotations` as `CLASSNAME.txt`, where CLASSNAME is one of the fourteen classes: *baby, bird, car, clouds, dog, female, flower, male, night, people, portrait, river, sea,* and *tree*.\n",
    "\n",
    "Each annotation file is a simple text file that lists the images that depict that class, one per line. The images are listed with their number, not the full filename. For example `5969` refers to the image `im5969.jpg`."
   ]
  },
  {
   "cell_type": "markdown",
   "metadata": {},
   "source": [
    "## Your stuff goes here ..."
   ]
  },
  {
   "cell_type": "code",
   "execution_count": 2,
   "metadata": {
    "collapsed": false
   },
   "outputs": [
    {
     "name": "stdout",
     "output_type": "stream",
     "text": [
      "Loading data...\n",
      "Data loading done!\n"
     ]
    }
   ],
   "source": [
    "# Here goes your code ...\n",
    "%matplotlib inline\n",
    "import torch\n",
    "import torch.nn as nn\n",
    "import torch.nn.functional as F\n",
    "from torchvision import datasets, transforms\n",
    "import numpy as np\n",
    "from matplotlib import pyplot as plt\n",
    "from PIL import Image\n",
    "\n",
    "\n",
    "num_images = 20000\n",
    "\n",
    "data = torch.empty(num_images,128,128,3,dtype=torch.int)\n",
    "\n",
    "print(\"Loading data...\")\n",
    "for i in range(num_images):\n",
    "    path = \"train/images/im\"+str(i+1)+\".jpg\"\n",
    "    element = torch.from_numpy(plt.imread(path))\n",
    "    if element.shape != torch.Size([128, 128, 3]):    #Duplicate grayscale images to all of the channels\n",
    "        element = torch.stack([element,element,element],2)\n",
    "    data[i] = element\n",
    "print(\"Data loading done!\")\n"
   ]
  },
  {
   "cell_type": "code",
   "execution_count": 3,
   "metadata": {
    "collapsed": false
   },
   "outputs": [
    {
     "name": "stdout",
     "output_type": "stream",
     "text": [
      "List of classes formed!\n"
     ]
    }
   ],
   "source": [
    "classes = {\n",
    "    \"baby\": 0,\n",
    "    \"bird\": 1,\n",
    "    \"car\": 2,\n",
    "    \"clouds\": 3,\n",
    "    \"dog\": 4,\n",
    "    \"female\": 5,\n",
    "    \"flower\": 6,\n",
    "    \"male\": 7,\n",
    "    \"night\": 8,\n",
    "    \"people\": 9,\n",
    "    \"portrait\": 10,\n",
    "    \"river\": 11,\n",
    "    \"sea\": 12,\n",
    "    \"tree\": 13\n",
    "}\n",
    "\n",
    "# Open each of the files containing the information about which images belong to which labels\n",
    "# and create a set for each label containing the numbers of the images in belonging to that label\n",
    "\n",
    "with open(\"train/annotations/baby.txt\") as file:\n",
    "    \n",
    "    lines = file.read()\n",
    "    lines = lines.split(\"\\n\")\n",
    "    baby = set([])\n",
    "    for line in lines:\n",
    "        if line!=\"\\n\" and line != '':  # ignore newlines and empty lines\n",
    "            baby.add(int(line))\n",
    "\n",
    "with open(\"train/annotations/bird.txt\") as file:\n",
    "    \n",
    "    lines = file.read()\n",
    "    lines = lines.split(\"\\n\")\n",
    "    bird = set([])\n",
    "    for line in lines:\n",
    "        if line!=\"\\n\" and line != '':\n",
    "            bird.add(int(line))\n",
    "\n",
    "with open(\"train/annotations/car.txt\") as file:\n",
    "    \n",
    "    lines = file.read()\n",
    "    lines = lines.split(\"\\n\")\n",
    "    car = set([])\n",
    "    for line in lines:\n",
    "        if line!=\"\\n\" and line != '':\n",
    "            car.add(int(line))\n",
    "\n",
    "with open(\"train/annotations/clouds.txt\") as file:\n",
    "    \n",
    "    lines = file.read()\n",
    "    lines = lines.split(\"\\n\")\n",
    "    clouds = set([])\n",
    "    for line in lines:\n",
    "        if line!=\"\\n\" and line != '':\n",
    "            clouds.add(int(line))\n",
    "\n",
    "with open(\"train/annotations/dog.txt\") as file:\n",
    "    \n",
    "    lines = file.read()\n",
    "    lines = lines.split(\"\\n\")\n",
    "    dog = set([])\n",
    "    for line in lines:\n",
    "        if line!=\"\\n\" and line != '':\n",
    "            dog.add(int(line))\n",
    "        \n",
    "with open(\"train/annotations/female.txt\") as file:\n",
    "    \n",
    "    lines = file.read()\n",
    "    lines = lines.split(\"\\n\")\n",
    "    female = set([])\n",
    "    for line in lines:\n",
    "        if line!=\"\\n\" and line != '':\n",
    "            female.add(int(line))\n",
    "        \n",
    "with open(\"train/annotations/flower.txt\") as file:\n",
    "    \n",
    "    lines = file.read()\n",
    "    lines = lines.split(\"\\n\")\n",
    "    flower = set([])\n",
    "    for line in lines:\n",
    "        if line!=\"\\n\" and line != '':\n",
    "            flower.add(int(line))\n",
    "        \n",
    "with open(\"train/annotations/male.txt\") as file:\n",
    "    \n",
    "    lines = file.read()\n",
    "    lines = lines.split(\"\\n\")\n",
    "    male = set([])\n",
    "    for line in lines:\n",
    "        if line!=\"\\n\" and line != '':\n",
    "            male.add(int(line))\n",
    "        \n",
    "with open(\"train/annotations/night.txt\") as file:\n",
    "    \n",
    "    lines = file.read()\n",
    "    lines = lines.split(\"\\n\")\n",
    "    night = set([])\n",
    "    for line in lines:\n",
    "        if line!=\"\\n\" and line != '':\n",
    "            night.add(int(line))\n",
    "\n",
    "with open(\"train/annotations/people.txt\") as file:\n",
    "    \n",
    "    lines = file.read()\n",
    "    lines = lines.split(\"\\n\")\n",
    "    people = set([])\n",
    "    for line in lines:\n",
    "        if line!=\"\\n\" and line != '':\n",
    "            people.add(int(line))\n",
    "        \n",
    "with open(\"train/annotations/portrait.txt\") as file:\n",
    "    \n",
    "    lines = file.read()\n",
    "    lines = lines.split(\"\\n\")\n",
    "    portrait = set([])\n",
    "    for line in lines:\n",
    "        if line!=\"\\n\" and line != '':\n",
    "            portrait.add(int(line))\n",
    "        \n",
    "with open(\"train/annotations/river.txt\") as file:\n",
    "    \n",
    "    lines = file.read()\n",
    "    lines = lines.split(\"\\n\")\n",
    "    river = set([])\n",
    "    for line in lines:\n",
    "        if line!=\"\\n\" and line != '':\n",
    "            river.add(int(line))\n",
    "        \n",
    "with open(\"train/annotations/sea.txt\") as file:\n",
    "    \n",
    "    lines = file.read()\n",
    "    lines = lines.split(\"\\n\")\n",
    "    sea = set([])\n",
    "    for line in lines:\n",
    "        if line!=\"\\n\" and line != '':\n",
    "            sea.add(int(line))\n",
    "        \n",
    "with open(\"train/annotations/tree.txt\") as file:\n",
    "    \n",
    "    lines = file.read()\n",
    "    lines = lines.split(\"\\n\")\n",
    "    tree = set([])\n",
    "    for line in lines:\n",
    "        if line!=\"\\n\" and line != '':\n",
    "            tree.add(int(line))\n",
    "            \n",
    "class_list = [baby,bird,car,clouds,dog,female,flower,male,night,people,portrait,river,sea,tree]\n",
    "\n",
    "def find_classes(index):\n",
    "    classes = np.zeros(len(class_list))\n",
    "    for i in range(len(class_list)):\n",
    "        if index in class_list[i]:  # find out if image number belongs to the label\n",
    "            classes[i]=1            # and set that labels array element to 1\n",
    "    # returns an array indicating to which labels the image belongs to (1 = belongs to label, 0 = doesn't belong)\n",
    "    return classes\n",
    "print(\"List of classes formed!\")"
   ]
  },
  {
   "cell_type": "code",
   "execution_count": 4,
   "metadata": {
    "collapsed": false
   },
   "outputs": [
    {
     "name": "stdout",
     "output_type": "stream",
     "text": [
      "Classes assinged!\n"
     ]
    }
   ],
   "source": [
    "classes = np.zeros((len(data),len(class_list)))\n",
    "\n",
    "#create list containing all of the class labels for all of the images\n",
    "for i in range(len(data)):\n",
    "    classes[i]=find_classes(i+1)\n",
    "    \n",
    "classes = torch.from_numpy(classes)\n",
    "\n",
    "print(\"Classes assinged!\")\n",
    "\n"
   ]
  },
  {
   "cell_type": "code",
   "execution_count": 5,
   "metadata": {
    "collapsed": false
   },
   "outputs": [
    {
     "name": "stdout",
     "output_type": "stream",
     "text": [
      "Datasets created!\n"
     ]
    }
   ],
   "source": [
    "from torch.utils.data.dataset import Dataset\n",
    "from torchvision import transforms\n",
    "\n",
    "class CustomDataset(Dataset):\n",
    "    def __init__(self, data, labels, transforms=None):\n",
    "        self.data = data\n",
    "        self.labels = labels\n",
    "        self.height = data.shape[1]\n",
    "        self.width = data.shape[2]\n",
    "        #self.transforms = transform\n",
    "\n",
    "    def __getitem__(self, index):\n",
    "        image_label = self.labels[index]\n",
    "        image = self.data[index]\n",
    "        return (image, image_label)\n",
    "\n",
    "    def __len__(self):\n",
    "        return len(self.data)\n",
    "\n",
    "#create a dataset from the data loaded before and the corresponding class labels\n",
    "training_data = data[0:16000]\n",
    "training_classes = classes[0:16000]\n",
    "validation_data = data[16000:len(data)]\n",
    "validation_classes = classes[16000:len(classes)]\n",
    "\n",
    "training_set = CustomDataset(training_data,training_classes)\n",
    "validation_set = CustomDataset(validation_data,validation_classes)\n",
    "print(\"Datasets created!\")"
   ]
  },
  {
   "cell_type": "code",
   "execution_count": 6,
   "metadata": {
    "collapsed": false,
    "scrolled": true
   },
   "outputs": [
    {
     "name": "stdout",
     "output_type": "stream",
     "text": [
      "Dataloaders created!\n"
     ]
    }
   ],
   "source": [
    "train_loader = torch.utils.data.DataLoader(dataset=training_set,\n",
    "                                                    batch_size=10,\n",
    "                                                    shuffle=False)\n",
    "\n",
    "validation_loader = torch.utils.data.DataLoader(dataset=validation_set,\n",
    "                                                    batch_size=10,\n",
    "                                                    shuffle=False)\n",
    "\n",
    "print(\"Dataloaders created!\")"
   ]
  },
  {
   "cell_type": "code",
   "execution_count": 7,
   "metadata": {
    "collapsed": false
   },
   "outputs": [
    {
     "name": "stdout",
     "output_type": "stream",
     "text": [
      "ResNet(\n",
      "  (conv1): Conv2d(3, 64, kernel_size=(7, 7), stride=(2, 2), padding=(3, 3), bias=False)\n",
      "  (bn1): BatchNorm2d(64, eps=1e-05, momentum=0.1, affine=True, track_running_stats=True)\n",
      "  (relu): ReLU(inplace)\n",
      "  (maxpool): MaxPool2d(kernel_size=3, stride=2, padding=1, dilation=1, ceil_mode=False)\n",
      "  (layer1): Sequential(\n",
      "    (0): BasicBlock(\n",
      "      (conv1): Conv2d(64, 64, kernel_size=(3, 3), stride=(1, 1), padding=(1, 1), bias=False)\n",
      "      (bn1): BatchNorm2d(64, eps=1e-05, momentum=0.1, affine=True, track_running_stats=True)\n",
      "      (relu): ReLU(inplace)\n",
      "      (conv2): Conv2d(64, 64, kernel_size=(3, 3), stride=(1, 1), padding=(1, 1), bias=False)\n",
      "      (bn2): BatchNorm2d(64, eps=1e-05, momentum=0.1, affine=True, track_running_stats=True)\n",
      "    )\n",
      "    (1): BasicBlock(\n",
      "      (conv1): Conv2d(64, 64, kernel_size=(3, 3), stride=(1, 1), padding=(1, 1), bias=False)\n",
      "      (bn1): BatchNorm2d(64, eps=1e-05, momentum=0.1, affine=True, track_running_stats=True)\n",
      "      (relu): ReLU(inplace)\n",
      "      (conv2): Conv2d(64, 64, kernel_size=(3, 3), stride=(1, 1), padding=(1, 1), bias=False)\n",
      "      (bn2): BatchNorm2d(64, eps=1e-05, momentum=0.1, affine=True, track_running_stats=True)\n",
      "    )\n",
      "  )\n",
      "  (layer2): Sequential(\n",
      "    (0): BasicBlock(\n",
      "      (conv1): Conv2d(64, 128, kernel_size=(3, 3), stride=(2, 2), padding=(1, 1), bias=False)\n",
      "      (bn1): BatchNorm2d(128, eps=1e-05, momentum=0.1, affine=True, track_running_stats=True)\n",
      "      (relu): ReLU(inplace)\n",
      "      (conv2): Conv2d(128, 128, kernel_size=(3, 3), stride=(1, 1), padding=(1, 1), bias=False)\n",
      "      (bn2): BatchNorm2d(128, eps=1e-05, momentum=0.1, affine=True, track_running_stats=True)\n",
      "      (downsample): Sequential(\n",
      "        (0): Conv2d(64, 128, kernel_size=(1, 1), stride=(2, 2), bias=False)\n",
      "        (1): BatchNorm2d(128, eps=1e-05, momentum=0.1, affine=True, track_running_stats=True)\n",
      "      )\n",
      "    )\n",
      "    (1): BasicBlock(\n",
      "      (conv1): Conv2d(128, 128, kernel_size=(3, 3), stride=(1, 1), padding=(1, 1), bias=False)\n",
      "      (bn1): BatchNorm2d(128, eps=1e-05, momentum=0.1, affine=True, track_running_stats=True)\n",
      "      (relu): ReLU(inplace)\n",
      "      (conv2): Conv2d(128, 128, kernel_size=(3, 3), stride=(1, 1), padding=(1, 1), bias=False)\n",
      "      (bn2): BatchNorm2d(128, eps=1e-05, momentum=0.1, affine=True, track_running_stats=True)\n",
      "    )\n",
      "  )\n",
      "  (layer3): Sequential(\n",
      "    (0): BasicBlock(\n",
      "      (conv1): Conv2d(128, 256, kernel_size=(3, 3), stride=(2, 2), padding=(1, 1), bias=False)\n",
      "      (bn1): BatchNorm2d(256, eps=1e-05, momentum=0.1, affine=True, track_running_stats=True)\n",
      "      (relu): ReLU(inplace)\n",
      "      (conv2): Conv2d(256, 256, kernel_size=(3, 3), stride=(1, 1), padding=(1, 1), bias=False)\n",
      "      (bn2): BatchNorm2d(256, eps=1e-05, momentum=0.1, affine=True, track_running_stats=True)\n",
      "      (downsample): Sequential(\n",
      "        (0): Conv2d(128, 256, kernel_size=(1, 1), stride=(2, 2), bias=False)\n",
      "        (1): BatchNorm2d(256, eps=1e-05, momentum=0.1, affine=True, track_running_stats=True)\n",
      "      )\n",
      "    )\n",
      "    (1): BasicBlock(\n",
      "      (conv1): Conv2d(256, 256, kernel_size=(3, 3), stride=(1, 1), padding=(1, 1), bias=False)\n",
      "      (bn1): BatchNorm2d(256, eps=1e-05, momentum=0.1, affine=True, track_running_stats=True)\n",
      "      (relu): ReLU(inplace)\n",
      "      (conv2): Conv2d(256, 256, kernel_size=(3, 3), stride=(1, 1), padding=(1, 1), bias=False)\n",
      "      (bn2): BatchNorm2d(256, eps=1e-05, momentum=0.1, affine=True, track_running_stats=True)\n",
      "    )\n",
      "  )\n",
      "  (layer4): Sequential(\n",
      "    (0): BasicBlock(\n",
      "      (conv1): Conv2d(256, 512, kernel_size=(3, 3), stride=(2, 2), padding=(1, 1), bias=False)\n",
      "      (bn1): BatchNorm2d(512, eps=1e-05, momentum=0.1, affine=True, track_running_stats=True)\n",
      "      (relu): ReLU(inplace)\n",
      "      (conv2): Conv2d(512, 512, kernel_size=(3, 3), stride=(1, 1), padding=(1, 1), bias=False)\n",
      "      (bn2): BatchNorm2d(512, eps=1e-05, momentum=0.1, affine=True, track_running_stats=True)\n",
      "      (downsample): Sequential(\n",
      "        (0): Conv2d(256, 512, kernel_size=(1, 1), stride=(2, 2), bias=False)\n",
      "        (1): BatchNorm2d(512, eps=1e-05, momentum=0.1, affine=True, track_running_stats=True)\n",
      "      )\n",
      "    )\n",
      "    (1): BasicBlock(\n",
      "      (conv1): Conv2d(512, 512, kernel_size=(3, 3), stride=(1, 1), padding=(1, 1), bias=False)\n",
      "      (bn1): BatchNorm2d(512, eps=1e-05, momentum=0.1, affine=True, track_running_stats=True)\n",
      "      (relu): ReLU(inplace)\n",
      "      (conv2): Conv2d(512, 512, kernel_size=(3, 3), stride=(1, 1), padding=(1, 1), bias=False)\n",
      "      (bn2): BatchNorm2d(512, eps=1e-05, momentum=0.1, affine=True, track_running_stats=True)\n",
      "    )\n",
      "  )\n",
      "  (avgpool): AvgPool2d(kernel_size=7, stride=1, padding=0)\n",
      "  (fc): Linear(in_features=512, out_features=1000, bias=True)\n",
      ")\n"
     ]
    }
   ],
   "source": [
    "from torchvision import models\n",
    "\n",
    "\n",
    "model = models.resnet18(pretrained = True)\n",
    "print(model)"
   ]
  },
  {
   "cell_type": "code",
   "execution_count": 8,
   "metadata": {
    "collapsed": true
   },
   "outputs": [],
   "source": [
    "#Freeze parameters\n",
    "for parameter in model.parameters():\n",
    "    parameter.requires_grad = False\n",
    "    \n",
    "def get_trainable_parameters(model):\n",
    "    return (parameter for parameter in model.parameters() if parameter.requires_grad)\n",
    "    \n",
    "\n",
    "#Replace the linear layer with a new one\n",
    "model.fc = nn.Linear(in_features=512, out_features=classes.shape[1], bias=True)\n",
    "\n",
    "device = \"cpu\"\n",
    "model = model.to(device)\n",
    "criterion = nn.CrossEntropyLoss()\n",
    "\n",
    "optimizer = torch.optim.Adam(get_trainable_parameters(model), lr =0.01)"
   ]
  },
  {
   "cell_type": "markdown",
   "metadata": {},
   "source": [
    "## Save your model\n",
    "\n",
    "It might be useful to save your model if you want to continue your work later, or use it for inference later."
   ]
  },
  {
   "cell_type": "code",
   "execution_count": null,
   "metadata": {
    "collapsed": true
   },
   "outputs": [],
   "source": [
    "torch.save(model.state_dict(), 'model.pkl')"
   ]
  },
  {
   "cell_type": "markdown",
   "metadata": {},
   "source": [
    "The model file should now be visible in the \"Home\" screen of the jupyter notebooks interface.  There you should be able to select it and press \"download\".  [See more here on how to load the model back](https://github.com/pytorch/pytorch/blob/761d6799beb3afa03657a71776412a2171ee7533/docs/source/notes/serialization.rst) if you want to continue training later."
   ]
  },
  {
   "cell_type": "markdown",
   "metadata": {},
   "source": [
    "## Download test set\n",
    "\n",
    "The testset will be made available during the last week before the deadline and can be downloaded in the same way as the training set."
   ]
  },
  {
   "cell_type": "markdown",
   "metadata": {},
   "source": [
    "## Predict for test set\n",
    "\n",
    "You should return your predictions for the test set in a plain text file.  The text file contains one row for each test set image.  Each row contains a binary prediction for each label (separated by a single space), 1 if it's present in the image, and 0 if not. The order of the labels is as follows (alphabetic order of the label names):\n",
    "\n",
    "    baby bird car clouds dog female flower male night people portrait river sea tree\n",
    "\n",
    "An example row could like like this if your system predicts the presense of a bird and clouds:\n",
    "\n",
    "    0 1 0 1 0 0 0 0 0 0 0 0 0 0\n",
    "    \n",
    "The order of the rows should be according to the numeric order of the image numbers.  In the test set, this means that the first row refers to image `im20001.jpg`, the second to `im20002.jpg`, and so on."
   ]
  },
  {
   "cell_type": "markdown",
   "metadata": {},
   "source": [
    "If you have the prediction output matrix prepared in `y` you can use the following function to save it to a text file."
   ]
  },
  {
   "cell_type": "code",
   "execution_count": null,
   "metadata": {
    "collapsed": true
   },
   "outputs": [],
   "source": [
    "np.savetxt('results.txt', y, fmt='%d')"
   ]
  }
 ],
 "metadata": {
  "kernelspec": {
   "display_name": "Python 3",
   "language": "python",
   "name": "python3"
  },
  "language_info": {
   "codemirror_mode": {
    "name": "ipython",
    "version": 3
   },
   "file_extension": ".py",
   "mimetype": "text/x-python",
   "name": "python",
   "nbconvert_exporter": "python",
   "pygments_lexer": "ipython3",
   "version": "3.6.0"
  }
 },
 "nbformat": 4,
 "nbformat_minor": 2
}
